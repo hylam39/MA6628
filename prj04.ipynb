{
 "cells": [
  {
   "cell_type": "raw",
   "metadata": {
    "collapsed": false
   },
   "source": [
    "Today: Sep 27, 2018\n",
    "Spot price: 290.68\n",
    "Maturity: Dec 31, 2018\n",
    "Strike: 288\n",
    "rate: 0.02 (from https://www.treasury.gov/resource-center/data-chart-center/interest-rates/Pages/TextView.aspx?data=yield)\n",
    "Market call price: 9.23"
   ]
  },
  {
   "cell_type": "code",
   "execution_count": 14,
   "metadata": {
    "collapsed": false
   },
   "outputs": [
   ],
   "source": [
    "from datetime import date\n",
    "\n",
    "d0 = date(2018,9,27)\n",
    "dt = date(2018,12,31)\n",
    "d = dt - d0\n",
    "\n",
    "T = d.days/365\n",
    "St = 290.68\n",
    "t = 0\n",
    "K = 288\n",
    "r = 0.02\n",
    "sigma = 0.3\n",
    "market_call_price = 9.23"
   ]
  },
  {
   "cell_type": "code",
   "execution_count": 15,
   "metadata": {
    "collapsed": false
   },
   "outputs": [
   ],
   "source": [
    "import numpy as np\n",
    "import scipy.stats as ss\n",
    "import time \n",
    "import math\n",
    "\n",
    "def d1f(St, K, t, T, r, sigma):\n",
    "    d1 = (math.log(St / K) + (r + 0.5 * sigma ** 2)\n",
    "          * (T - t)) / (sigma * math.sqrt(T - t))\n",
    "    return d1\n",
    "\n",
    "def BSM_call_value(St, K, t, T, r, sigma):\n",
    "    d1 = d1f(St, K, t, T, r, sigma)\n",
    "    d2 = d1 - sigma * math.sqrt(T - t)\n",
    "    call_value = St * ss.norm.cdf(d1) - math.exp(-r * (T - t)) * K * ss.norm.cdf(d2)\n",
    "    return call_value"
   ]
  },
  {
   "cell_type": "code",
   "execution_count": 16,
   "metadata": {
    "collapsed": false
   },
   "outputs": [
    {
     "name": "stdout",
     "output_type": "stream",
     "text": [
      "The difference between BSM call price and market call price is 10.539937820552115\n"
     ]
    }
   ],
   "source": [
    "difference = BSM_call_value(St, K, t, T, r, sigma) - market_call_price\n",
    "\n",
    "print(\"The difference between BSM call price and market call price is\", difference)"
   ]
  },
  {
   "cell_type": "code",
   "execution_count": 18,
   "metadata": {
    "collapsed": false
   },
   "outputs": [
    {
     "name": "stdout",
     "output_type": "stream",
     "text": [
      "Optimization terminated successfully.\n",
      "         Current function value: 0.000373\n",
      "         Iterations: 17\n",
      "         Function evaluations: 34\n",
      "The implied volatility is [0.11822754]\n"
     ]
    }
   ],
   "source": [
    "import scipy.optimize as sop\n",
    "\n",
    "def BSM_error_function(sigma):\n",
    "    MSE = np.abs(BSM_call_value(St, K, t, T, r, sigma) - market_call_price)\n",
    "    return MSE\n",
    "\n",
    "Volatility = sop.fmin(BSM_error_function, 0.3, xtol = 0.0001, ftol = 0.0001)\n",
    "\n",
    "print(\"The implied volatility is\", Volatility)"
   ]
  }
 ],
 "metadata": {
  "kernelspec": {
   "display_name": "Python 3 (Anaconda 5)",
   "language": "python",
   "name": "anaconda5"
  },
  "language_info": {
   "codemirror_mode": {
    "name": "ipython",
    "version": 3
   },
   "file_extension": ".py",
   "mimetype": "text/x-python",
   "name": "python",
   "nbconvert_exporter": "python",
   "pygments_lexer": "ipython3",
   "version": "3.6.5"
  }
 },
 "nbformat": 4,
 "nbformat_minor": 0
}