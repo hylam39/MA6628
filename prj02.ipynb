{
 "cells": [
  {
   "cell_type": "code",
   "execution_count": 4,
   "metadata": {
    "collapsed": false
   },
   "outputs": [
   ],
   "source": [
    "#BS formula is given here\n",
    "import numpy as np\n",
    "import scipy.stats as ss\n",
    "import time \n",
    "import math"
   ]
  },
  {
   "cell_type": "code",
   "execution_count": 5,
   "metadata": {
    "collapsed": false
   },
   "outputs": [
   ],
   "source": [
    "def d1f(St, K, t, T, r, sigma):\n",
    "    ''' Black-Scholes-Merton d1 function.\n",
    "        Parameters see e.g. BSM_call_value function. '''\n",
    "    d1 = (math.log(St / K) + (r + 0.5 * sigma ** 2)\n",
    "          * (T - t)) / (sigma * math.sqrt(T - t))\n",
    "    return d1"
   ]
  },
  {
   "cell_type": "code",
   "execution_count": 6,
   "metadata": {
    "collapsed": false
   },
   "outputs": [
   ],
   "source": [
    "def BSM_call_value(St, K, t, T, r, sigma):\n",
    "    ''' Calculates Black-Scholes-Merton European call option value.\n",
    "\n",
    "    Parameters\n",
    "    ==========\n",
    "    St : float\n",
    "        stock/index level at time t\n",
    "    K : float\n",
    "        strike price\n",
    "    t : float\n",
    "        valuation date\n",
    "    T : float\n",
    "        date of maturity/time-to-maturity if t = 0; T > t\n",
    "    r : float\n",
    "        constant, risk-less short rate\n",
    "    sigma : float\n",
    "        volatility\n",
    "\n",
    "    Returns\n",
    "    =======\n",
    "    call_value : float\n",
    "        European call present value at t\n",
    "    '''\n",
    "    d1 = d1f(St, K, t, T, r, sigma)\n",
    "    d2 = d1 - sigma * math.sqrt(T - t)\n",
    "    call_value = St * ss.norm.cdf(d1) - math.exp(-r * (T - t)) * K * ss.norm.cdf(d2)\n",
    "    return call_value"
   ]
  },
  {
   "cell_type": "code",
   "execution_count": 7,
   "metadata": {
    "collapsed": false
   },
   "outputs": [
   ],
   "source": [
    "def BSM_put_value(St, K, t, T, r, sigma):\n",
    "    ''' Calculates Black-Scholes-Merton European put option value.\n",
    "\n",
    "    Parameters\n",
    "    ==========\n",
    "    St : float\n",
    "        stock/index level at time t\n",
    "    K : float\n",
    "        strike price\n",
    "    t : float\n",
    "        valuation date\n",
    "    T : float\n",
    "        date of maturity/time-to-maturity if t = 0; T > t\n",
    "    r : float\n",
    "        constant, risk-less short rate\n",
    "    sigma : float\n",
    "        volatility\n",
    "\n",
    "    Returns\n",
    "    =======\n",
    "    put_value : float\n",
    "        European put present value at t\n",
    "    '''\n",
    "    put_value = BSM_call_value(St, K, t, T, r, sigma) \\\n",
    "        - St + math.exp(-r * (T - t)) * K\n",
    "    return put_value"
   ]
  },
  {
   "cell_type": "code",
   "execution_count": 44,
   "metadata": {
    "collapsed": false
   },
   "outputs": [
   ],
   "source": [
    "St = 100.0 #initial stock price\n",
    "K = 110.0 #strike\n",
    "r=0.0475 #interest rate\n",
    "sigma = 0.20 #vol\n",
    "T = 1.\n",
    "t = 0.\n",
    "n = 4."
   ]
  },
  {
   "cell_type": "code",
   "execution_count": 0,
   "metadata": {
    "collapsed": false
   },
   "outputs": [
   ],
   "source": [
   ]
  },
  {
   "cell_type": "code",
   "execution_count": 51,
   "metadata": {
    "collapsed": false
   },
   "outputs": [
    {
     "name": "stdout",
     "output_type": "stream",
     "text": [
      "0.13693063937629155\n",
      "0.026562500000000003\n"
     ]
    }
   ],
   "source": [
    "sh = (sigma/n)*math.sqrt((n+1)*(2*n+1)/6)\n",
    "rh = 0.5*sh**2 + (n+1)*(r-0.5*sigma**2)/(2*n)\n",
    "print(sh)\n",
    "print(rh)"
   ]
  },
  {
   "cell_type": "code",
   "execution_count": 52,
   "metadata": {
    "collapsed": false
   },
   "outputs": [
    {
     "name": "stdout",
     "output_type": "stream",
     "text": [
      "The geometric asian call option value is 2.7329867250697175\n"
     ]
    }
   ],
   "source": [
    "acv = math.exp((rh-r)*T)*BSM_call_value(St, K, t, T, rh, sh)\n",
    "print(\"The geometric asian call option value is\", acv)"
   ]
  }
 ],
 "metadata": {
  "kernelspec": {
   "display_name": "Python 3 (Anaconda 5)",
   "language": "python",
   "name": "anaconda5"
  },
  "language_info": {
   "codemirror_mode": {
    "name": "ipython",
    "version": 3
   },
   "file_extension": ".py",
   "mimetype": "text/x-python",
   "name": "python",
   "nbconvert_exporter": "python",
   "pygments_lexer": "ipython3",
   "version": "3.6.5"
  }
 },
 "nbformat": 4,
 "nbformat_minor": 0
}