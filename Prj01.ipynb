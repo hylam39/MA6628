{
 "cells": [
  {
   "cell_type": "code",
   "execution_count": 34,
   "metadata": {
    "collapsed": false
   },
   "outputs": [
   ],
   "source": [
    "import math\n",
    "def prime(x,y):\n",
    "    if x>y:\n",
    "        print(\"x must be greater than y\")\n",
    "    else:\n",
    "        c=[]\n",
    "        for a in range(x,y):\n",
    "            p = 1\n",
    "            for b in range(2,int(math.sqrt(a))+1):\n",
    "                if a%b ==0:\n",
    "                    p = 0\n",
    "                    break\n",
    "\n",
    "            if p == 1:\n",
    "                c.append(a)\n",
    "        count=0\n",
    "        for i in range(len(c)-1):\n",
    "            if c[i+1]-c[i]==2:\n",
    "                count = count + 1\n",
    "#                print(c[i], c[i+1])\n",
    "\n",
    "        for j in range(len(c)-2, -1, -1):\n",
    "            if c[j+1]-c[j]==2:\n",
    "#                print(c[j], c[j+1])\n",
    "                break\n",
    "\n",
    "        print(\"No. of Twin Primes in %d and %d: %d\" %(x, y, count))\n",
    "        print(\"Largest Twin Primes\", c[j],c[j+1])"
   ]
  },
  {
   "cell_type": "code",
   "execution_count": 35,
   "metadata": {
    "collapsed": false
   },
   "outputs": [
    {
     "name": "stdout",
     "output_type": "stream",
     "text": [
      "No. of Twin Primes in 1000 and 1000000: 8134\n",
      "Largest Twin Primes 999959 999961\n"
     ]
    }
   ],
   "source": [
    "prime(1000,1000000)"
   ]
  }
 ],
 "metadata": {
  "kernelspec": {
   "display_name": "Python 3 (Anaconda 5)",
   "language": "python",
   "name": "anaconda5"
  },
  "language_info": {
   "codemirror_mode": {
    "name": "ipython",
    "version": 3
   },
   "file_extension": ".py",
   "mimetype": "text/x-python",
   "name": "python",
   "nbconvert_exporter": "python",
   "pygments_lexer": "ipython3",
   "version": "3.6.5"
  }
 },
 "nbformat": 4,
 "nbformat_minor": 0
}